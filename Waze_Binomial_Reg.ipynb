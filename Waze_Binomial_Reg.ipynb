{
 "cells": [
  {
   "cell_type": "markdown",
   "metadata": {
    "id": "DtNBZFHO3M7n"
   },
   "source": [
    "# **Waze Project**"
   ]
  },
  {
   "cell_type": "code",
   "execution_count": 1,
   "metadata": {
    "id": "ccfeg6X6eOVZ"
   },
   "outputs": [],
   "source": [
    "import pandas as pd\n",
    "import numpy as np\n",
    "import matplotlib.pyplot as plt\n",
    "import seaborn as sns\n",
    "from sklearn.preprocessing import StandardScaler, OneHotEncoder\n",
    "from sklearn.model_selection import train_test_split\n",
    "from sklearn.metrics import classification_report, accuracy_score, precision_score, \\\n",
    "recall_score, f1_score, confusion_matrix, ConfusionMatrixDisplay\n",
    "from sklearn.linear_model import LogisticRegression\n"
   ]
  },
  {
   "cell_type": "code",
   "execution_count": 2,
   "metadata": {
    "id": "TyR3sBUYJBO8"
   },
   "outputs": [],
   "source": [
    "df = pd.read_csv('/Users/jeelpatel/Documents/Data Models/waze_dataset.csv')"
   ]
  },
  {
   "cell_type": "markdown",
   "metadata": {
    "id": "rIcDG2e66wt9"
   },
   "source": [
    "### **EDA**"
   ]
  },
  {
   "cell_type": "code",
   "execution_count": 3,
   "metadata": {
    "colab": {
     "base_uri": "https://localhost:8080/"
    },
    "executionInfo": {
     "elapsed": 18,
     "status": "ok",
     "timestamp": 1685661316022,
     "user": {
      "displayName": "Matteo Riotto",
      "userId": "15211004813978485634"
     },
     "user_tz": 420
    },
    "id": "T4Ag-sZhWg6K",
    "outputId": "d4400d88-7ff9-4266-a92a-014fbdb62251"
   },
   "outputs": [
    {
     "name": "stdout",
     "output_type": "stream",
     "text": [
      "(14999, 13)\n",
      "<class 'pandas.core.frame.DataFrame'>\n",
      "RangeIndex: 14999 entries, 0 to 14998\n",
      "Data columns (total 13 columns):\n",
      " #   Column                   Non-Null Count  Dtype  \n",
      "---  ------                   --------------  -----  \n",
      " 0   ID                       14999 non-null  int64  \n",
      " 1   label                    14299 non-null  object \n",
      " 2   sessions                 14999 non-null  int64  \n",
      " 3   drives                   14999 non-null  int64  \n",
      " 4   total_sessions           14999 non-null  float64\n",
      " 5   n_days_after_onboarding  14999 non-null  int64  \n",
      " 6   total_navigations_fav1   14999 non-null  int64  \n",
      " 7   total_navigations_fav2   14999 non-null  int64  \n",
      " 8   driven_km_drives         14999 non-null  float64\n",
      " 9   duration_minutes_drives  14999 non-null  float64\n",
      " 10  activity_days            14999 non-null  int64  \n",
      " 11  driving_days             14999 non-null  int64  \n",
      " 12  device                   14999 non-null  object \n",
      "dtypes: float64(3), int64(8), object(2)\n",
      "memory usage: 1.5+ MB\n"
     ]
    }
   ],
   "source": [
    "print(df.shape)\n",
    "\n",
    "df.info()"
   ]
  },
  {
   "cell_type": "code",
   "execution_count": 4,
   "metadata": {
    "colab": {
     "base_uri": "https://localhost:8080/",
     "height": 270
    },
    "executionInfo": {
     "elapsed": 16,
     "status": "ok",
     "timestamp": 1685661316022,
     "user": {
      "displayName": "Matteo Riotto",
      "userId": "15211004813978485634"
     },
     "user_tz": 420
    },
    "id": "ll2pxoClXgmx",
    "outputId": "87aaf063-308a-4081-f20f-a5eeaf98e807"
   },
   "outputs": [
    {
     "data": {
      "text/html": [
       "<div>\n",
       "<style scoped>\n",
       "    .dataframe tbody tr th:only-of-type {\n",
       "        vertical-align: middle;\n",
       "    }\n",
       "\n",
       "    .dataframe tbody tr th {\n",
       "        vertical-align: top;\n",
       "    }\n",
       "\n",
       "    .dataframe thead th {\n",
       "        text-align: right;\n",
       "    }\n",
       "</style>\n",
       "<table border=\"1\" class=\"dataframe\">\n",
       "  <thead>\n",
       "    <tr style=\"text-align: right;\">\n",
       "      <th></th>\n",
       "      <th>ID</th>\n",
       "      <th>label</th>\n",
       "      <th>sessions</th>\n",
       "      <th>drives</th>\n",
       "      <th>total_sessions</th>\n",
       "      <th>n_days_after_onboarding</th>\n",
       "      <th>total_navigations_fav1</th>\n",
       "      <th>total_navigations_fav2</th>\n",
       "      <th>driven_km_drives</th>\n",
       "      <th>duration_minutes_drives</th>\n",
       "      <th>activity_days</th>\n",
       "      <th>driving_days</th>\n",
       "      <th>device</th>\n",
       "    </tr>\n",
       "  </thead>\n",
       "  <tbody>\n",
       "    <tr>\n",
       "      <th>0</th>\n",
       "      <td>0</td>\n",
       "      <td>retained</td>\n",
       "      <td>283</td>\n",
       "      <td>226</td>\n",
       "      <td>296.748273</td>\n",
       "      <td>2276</td>\n",
       "      <td>208</td>\n",
       "      <td>0</td>\n",
       "      <td>2628.845068</td>\n",
       "      <td>1985.775061</td>\n",
       "      <td>28</td>\n",
       "      <td>19</td>\n",
       "      <td>Android</td>\n",
       "    </tr>\n",
       "    <tr>\n",
       "      <th>1</th>\n",
       "      <td>1</td>\n",
       "      <td>retained</td>\n",
       "      <td>133</td>\n",
       "      <td>107</td>\n",
       "      <td>326.896596</td>\n",
       "      <td>1225</td>\n",
       "      <td>19</td>\n",
       "      <td>64</td>\n",
       "      <td>13715.920550</td>\n",
       "      <td>3160.472914</td>\n",
       "      <td>13</td>\n",
       "      <td>11</td>\n",
       "      <td>iPhone</td>\n",
       "    </tr>\n",
       "    <tr>\n",
       "      <th>2</th>\n",
       "      <td>2</td>\n",
       "      <td>retained</td>\n",
       "      <td>114</td>\n",
       "      <td>95</td>\n",
       "      <td>135.522926</td>\n",
       "      <td>2651</td>\n",
       "      <td>0</td>\n",
       "      <td>0</td>\n",
       "      <td>3059.148818</td>\n",
       "      <td>1610.735904</td>\n",
       "      <td>14</td>\n",
       "      <td>8</td>\n",
       "      <td>Android</td>\n",
       "    </tr>\n",
       "    <tr>\n",
       "      <th>3</th>\n",
       "      <td>3</td>\n",
       "      <td>retained</td>\n",
       "      <td>49</td>\n",
       "      <td>40</td>\n",
       "      <td>67.589221</td>\n",
       "      <td>15</td>\n",
       "      <td>322</td>\n",
       "      <td>7</td>\n",
       "      <td>913.591123</td>\n",
       "      <td>587.196542</td>\n",
       "      <td>7</td>\n",
       "      <td>3</td>\n",
       "      <td>iPhone</td>\n",
       "    </tr>\n",
       "    <tr>\n",
       "      <th>4</th>\n",
       "      <td>4</td>\n",
       "      <td>retained</td>\n",
       "      <td>84</td>\n",
       "      <td>68</td>\n",
       "      <td>168.247020</td>\n",
       "      <td>1562</td>\n",
       "      <td>166</td>\n",
       "      <td>5</td>\n",
       "      <td>3950.202008</td>\n",
       "      <td>1219.555924</td>\n",
       "      <td>27</td>\n",
       "      <td>18</td>\n",
       "      <td>Android</td>\n",
       "    </tr>\n",
       "  </tbody>\n",
       "</table>\n",
       "</div>"
      ],
      "text/plain": [
       "   ID     label  sessions  drives  total_sessions  n_days_after_onboarding  \\\n",
       "0   0  retained       283     226      296.748273                     2276   \n",
       "1   1  retained       133     107      326.896596                     1225   \n",
       "2   2  retained       114      95      135.522926                     2651   \n",
       "3   3  retained        49      40       67.589221                       15   \n",
       "4   4  retained        84      68      168.247020                     1562   \n",
       "\n",
       "   total_navigations_fav1  total_navigations_fav2  driven_km_drives  \\\n",
       "0                     208                       0       2628.845068   \n",
       "1                      19                      64      13715.920550   \n",
       "2                       0                       0       3059.148818   \n",
       "3                     322                       7        913.591123   \n",
       "4                     166                       5       3950.202008   \n",
       "\n",
       "   duration_minutes_drives  activity_days  driving_days   device  \n",
       "0              1985.775061             28            19  Android  \n",
       "1              3160.472914             13            11   iPhone  \n",
       "2              1610.735904             14             8  Android  \n",
       "3               587.196542              7             3   iPhone  \n",
       "4              1219.555924             27            18  Android  "
      ]
     },
     "execution_count": 4,
     "metadata": {},
     "output_type": "execute_result"
    }
   ],
   "source": [
    "df.head()"
   ]
  },
  {
   "cell_type": "code",
   "execution_count": 5,
   "metadata": {
    "id": "RnFQIV3Cp8Bp"
   },
   "outputs": [],
   "source": [
    "df = df.drop('ID', axis=1)"
   ]
  },
  {
   "cell_type": "code",
   "execution_count": 6,
   "metadata": {
    "colab": {
     "base_uri": "https://localhost:8080/"
    },
    "executionInfo": {
     "elapsed": 15,
     "status": "ok",
     "timestamp": 1685661316023,
     "user": {
      "displayName": "Matteo Riotto",
      "userId": "15211004813978485634"
     },
     "user_tz": 420
    },
    "id": "k5lo-Sz6yizF",
    "outputId": "9dcde8b6-12bb-48fd-a2de-e70af2c46cba"
   },
   "outputs": [
    {
     "data": {
      "text/plain": [
       "label\n",
       "retained    0.822645\n",
       "churned     0.177355\n",
       "Name: proportion, dtype: float64"
      ]
     },
     "execution_count": 6,
     "metadata": {},
     "output_type": "execute_result"
    }
   ],
   "source": [
    "df['label'].value_counts(normalize=True)"
   ]
  },
  {
   "cell_type": "code",
   "execution_count": 7,
   "metadata": {
    "colab": {
     "base_uri": "https://localhost:8080/",
     "height": 364
    },
    "executionInfo": {
     "elapsed": 461,
     "status": "ok",
     "timestamp": 1685661316473,
     "user": {
      "displayName": "Matteo Riotto",
      "userId": "15211004813978485634"
     },
     "user_tz": 420
    },
    "id": "AjcSoFeVIhYf",
    "outputId": "c9e52d3d-6ec2-4a00-9bc8-2aa2985bfb6e"
   },
   "outputs": [
    {
     "data": {
      "text/html": [
       "<div>\n",
       "<style scoped>\n",
       "    .dataframe tbody tr th:only-of-type {\n",
       "        vertical-align: middle;\n",
       "    }\n",
       "\n",
       "    .dataframe tbody tr th {\n",
       "        vertical-align: top;\n",
       "    }\n",
       "\n",
       "    .dataframe thead th {\n",
       "        text-align: right;\n",
       "    }\n",
       "</style>\n",
       "<table border=\"1\" class=\"dataframe\">\n",
       "  <thead>\n",
       "    <tr style=\"text-align: right;\">\n",
       "      <th></th>\n",
       "      <th>sessions</th>\n",
       "      <th>drives</th>\n",
       "      <th>total_sessions</th>\n",
       "      <th>n_days_after_onboarding</th>\n",
       "      <th>total_navigations_fav1</th>\n",
       "      <th>total_navigations_fav2</th>\n",
       "      <th>driven_km_drives</th>\n",
       "      <th>duration_minutes_drives</th>\n",
       "      <th>activity_days</th>\n",
       "      <th>driving_days</th>\n",
       "    </tr>\n",
       "  </thead>\n",
       "  <tbody>\n",
       "    <tr>\n",
       "      <th>count</th>\n",
       "      <td>14999.000000</td>\n",
       "      <td>14999.000000</td>\n",
       "      <td>14999.000000</td>\n",
       "      <td>14999.000000</td>\n",
       "      <td>14999.000000</td>\n",
       "      <td>14999.000000</td>\n",
       "      <td>14999.000000</td>\n",
       "      <td>14999.000000</td>\n",
       "      <td>14999.000000</td>\n",
       "      <td>14999.000000</td>\n",
       "    </tr>\n",
       "    <tr>\n",
       "      <th>mean</th>\n",
       "      <td>80.633776</td>\n",
       "      <td>67.281152</td>\n",
       "      <td>189.964447</td>\n",
       "      <td>1749.837789</td>\n",
       "      <td>121.605974</td>\n",
       "      <td>29.672512</td>\n",
       "      <td>4039.340921</td>\n",
       "      <td>1860.976012</td>\n",
       "      <td>15.537102</td>\n",
       "      <td>12.179879</td>\n",
       "    </tr>\n",
       "    <tr>\n",
       "      <th>std</th>\n",
       "      <td>80.699065</td>\n",
       "      <td>65.913872</td>\n",
       "      <td>136.405128</td>\n",
       "      <td>1008.513876</td>\n",
       "      <td>148.121544</td>\n",
       "      <td>45.394651</td>\n",
       "      <td>2502.149334</td>\n",
       "      <td>1446.702288</td>\n",
       "      <td>9.004655</td>\n",
       "      <td>7.824036</td>\n",
       "    </tr>\n",
       "    <tr>\n",
       "      <th>min</th>\n",
       "      <td>0.000000</td>\n",
       "      <td>0.000000</td>\n",
       "      <td>0.220211</td>\n",
       "      <td>4.000000</td>\n",
       "      <td>0.000000</td>\n",
       "      <td>0.000000</td>\n",
       "      <td>60.441250</td>\n",
       "      <td>18.282082</td>\n",
       "      <td>0.000000</td>\n",
       "      <td>0.000000</td>\n",
       "    </tr>\n",
       "    <tr>\n",
       "      <th>25%</th>\n",
       "      <td>23.000000</td>\n",
       "      <td>20.000000</td>\n",
       "      <td>90.661156</td>\n",
       "      <td>878.000000</td>\n",
       "      <td>9.000000</td>\n",
       "      <td>0.000000</td>\n",
       "      <td>2212.600607</td>\n",
       "      <td>835.996260</td>\n",
       "      <td>8.000000</td>\n",
       "      <td>5.000000</td>\n",
       "    </tr>\n",
       "    <tr>\n",
       "      <th>50%</th>\n",
       "      <td>56.000000</td>\n",
       "      <td>48.000000</td>\n",
       "      <td>159.568115</td>\n",
       "      <td>1741.000000</td>\n",
       "      <td>71.000000</td>\n",
       "      <td>9.000000</td>\n",
       "      <td>3493.858085</td>\n",
       "      <td>1478.249859</td>\n",
       "      <td>16.000000</td>\n",
       "      <td>12.000000</td>\n",
       "    </tr>\n",
       "    <tr>\n",
       "      <th>75%</th>\n",
       "      <td>112.000000</td>\n",
       "      <td>93.000000</td>\n",
       "      <td>254.192341</td>\n",
       "      <td>2623.500000</td>\n",
       "      <td>178.000000</td>\n",
       "      <td>43.000000</td>\n",
       "      <td>5289.861262</td>\n",
       "      <td>2464.362632</td>\n",
       "      <td>23.000000</td>\n",
       "      <td>19.000000</td>\n",
       "    </tr>\n",
       "    <tr>\n",
       "      <th>max</th>\n",
       "      <td>743.000000</td>\n",
       "      <td>596.000000</td>\n",
       "      <td>1216.154633</td>\n",
       "      <td>3500.000000</td>\n",
       "      <td>1236.000000</td>\n",
       "      <td>415.000000</td>\n",
       "      <td>21183.401890</td>\n",
       "      <td>15851.727160</td>\n",
       "      <td>31.000000</td>\n",
       "      <td>30.000000</td>\n",
       "    </tr>\n",
       "  </tbody>\n",
       "</table>\n",
       "</div>"
      ],
      "text/plain": [
       "           sessions        drives  total_sessions  n_days_after_onboarding  \\\n",
       "count  14999.000000  14999.000000    14999.000000             14999.000000   \n",
       "mean      80.633776     67.281152      189.964447              1749.837789   \n",
       "std       80.699065     65.913872      136.405128              1008.513876   \n",
       "min        0.000000      0.000000        0.220211                 4.000000   \n",
       "25%       23.000000     20.000000       90.661156               878.000000   \n",
       "50%       56.000000     48.000000      159.568115              1741.000000   \n",
       "75%      112.000000     93.000000      254.192341              2623.500000   \n",
       "max      743.000000    596.000000     1216.154633              3500.000000   \n",
       "\n",
       "       total_navigations_fav1  total_navigations_fav2  driven_km_drives  \\\n",
       "count            14999.000000            14999.000000      14999.000000   \n",
       "mean               121.605974               29.672512       4039.340921   \n",
       "std                148.121544               45.394651       2502.149334   \n",
       "min                  0.000000                0.000000         60.441250   \n",
       "25%                  9.000000                0.000000       2212.600607   \n",
       "50%                 71.000000                9.000000       3493.858085   \n",
       "75%                178.000000               43.000000       5289.861262   \n",
       "max               1236.000000              415.000000      21183.401890   \n",
       "\n",
       "       duration_minutes_drives  activity_days  driving_days  \n",
       "count             14999.000000   14999.000000  14999.000000  \n",
       "mean               1860.976012      15.537102     12.179879  \n",
       "std                1446.702288       9.004655      7.824036  \n",
       "min                  18.282082       0.000000      0.000000  \n",
       "25%                 835.996260       8.000000      5.000000  \n",
       "50%                1478.249859      16.000000     12.000000  \n",
       "75%                2464.362632      23.000000     19.000000  \n",
       "max               15851.727160      31.000000     30.000000  "
      ]
     },
     "execution_count": 7,
     "metadata": {},
     "output_type": "execute_result"
    }
   ],
   "source": [
    "df.describe()"
   ]
  },
  {
   "cell_type": "markdown",
   "metadata": {
    "id": "Xn43i4Gh-Q7M"
   },
   "source": [
    "### **Feature creation**"
   ]
  },
  {
   "cell_type": "markdown",
   "metadata": {
    "id": "ky5h_Aum3RK1"
   },
   "source": [
    "#### **`km_per_driving_day`**"
   ]
  },
  {
   "cell_type": "code",
   "execution_count": 8,
   "metadata": {
    "colab": {
     "base_uri": "https://localhost:8080/"
    },
    "executionInfo": {
     "elapsed": 34,
     "status": "ok",
     "timestamp": 1685661316473,
     "user": {
      "displayName": "Matteo Riotto",
      "userId": "15211004813978485634"
     },
     "user_tz": 420
    },
    "id": "IhgtbbCf8l4P",
    "outputId": "3dc9ac42-76fc-4b39-b58b-6a9e8b7a0ea2"
   },
   "outputs": [
    {
     "data": {
      "text/plain": [
       "count    1.499900e+04\n",
       "mean              inf\n",
       "std               NaN\n",
       "min      3.022063e+00\n",
       "25%      1.672804e+02\n",
       "50%      3.231459e+02\n",
       "75%      7.579257e+02\n",
       "max               inf\n",
       "Name: km_per_driving_day, dtype: float64"
      ]
     },
     "execution_count": 8,
     "metadata": {},
     "output_type": "execute_result"
    }
   ],
   "source": [
    "# 1. Created `km_per_driving_day` column\n",
    "df['km_per_driving_day'] = df['driven_km_drives'] / df['driving_days']\n",
    "df['km_per_driving_day'].describe()"
   ]
  },
  {
   "cell_type": "code",
   "execution_count": 9,
   "metadata": {
    "colab": {
     "base_uri": "https://localhost:8080/"
    },
    "executionInfo": {
     "elapsed": 33,
     "status": "ok",
     "timestamp": 1685661316474,
     "user": {
      "displayName": "Matteo Riotto",
      "userId": "15211004813978485634"
     },
     "user_tz": 420
    },
    "id": "xRphAWpW9DK_",
    "outputId": "afcd893c-aefa-4e0f-dcc3-0907573f9d15"
   },
   "outputs": [
    {
     "data": {
      "text/plain": [
       "count    14999.000000\n",
       "mean       578.963113\n",
       "std       1030.094384\n",
       "min          0.000000\n",
       "25%        136.238895\n",
       "50%        272.889272\n",
       "75%        558.686918\n",
       "max      15420.234110\n",
       "Name: km_per_driving_day, dtype: float64"
      ]
     },
     "execution_count": 9,
     "metadata": {},
     "output_type": "execute_result"
    }
   ],
   "source": [
    "# 1. Converted infinite values to zero\n",
    "df.loc[df['km_per_driving_day']==np.inf, 'km_per_driving_day'] = 0\n",
    "df['km_per_driving_day'].describe()"
   ]
  },
  {
   "cell_type": "markdown",
   "metadata": {
    "id": "YlTioDBX80q3"
   },
   "source": [
    "#### **`professional_driver`**"
   ]
  },
  {
   "cell_type": "code",
   "execution_count": 13,
   "metadata": {
    "id": "heHnO3KtDVqu"
   },
   "outputs": [],
   "source": [
    "# Created `professional_driver` column\n",
    "df['professional_driver'] = np.where((df['drives'] >= 60) & (df['driving_days'] >= 15), 1, 0)"
   ]
  },
  {
   "cell_type": "code",
   "execution_count": 14,
   "metadata": {
    "colab": {
     "base_uri": "https://localhost:8080/"
    },
    "executionInfo": {
     "elapsed": 30,
     "status": "ok",
     "timestamp": 1685661316476,
     "user": {
      "displayName": "Matteo Riotto",
      "userId": "15211004813978485634"
     },
     "user_tz": 420
    },
    "id": "Gqz5wCbRJ2-7",
    "outputId": "6e762532-9e7d-49d3-ad12-e8fb32cd0849"
   },
   "outputs": [
    {
     "name": "stdout",
     "output_type": "stream",
     "text": [
      "professional_driver\n",
      "0    12405\n",
      "1     2594\n",
      "Name: count, dtype: int64\n"
     ]
    },
    {
     "data": {
      "text/plain": [
       "professional_driver  label   \n",
       "0                    retained    0.801202\n",
       "                     churned     0.198798\n",
       "1                    retained    0.924437\n",
       "                     churned     0.075563\n",
       "Name: proportion, dtype: float64"
      ]
     },
     "execution_count": 14,
     "metadata": {},
     "output_type": "execute_result"
    }
   ],
   "source": [
    "# Count of professionals and non-professionals\n",
    "print(df['professional_driver'].value_counts())\n",
    "\n",
    "# In-class churn rate\n",
    "df.groupby(['professional_driver'])['label'].value_counts(normalize=True)"
   ]
  },
  {
   "cell_type": "markdown",
   "metadata": {
    "id": "LaJxfLvNL97O"
   },
   "source": [
    "The churn rate for professional drivers is 7.6%, while the churn rate for non-professionals is 19.9%. "
   ]
  },
  {
   "cell_type": "markdown",
   "metadata": {
    "id": "07UJJm41ajgf"
   },
   "source": [
    "### **Preparing variables**"
   ]
  },
  {
   "cell_type": "code",
   "execution_count": 15,
   "metadata": {
    "colab": {
     "base_uri": "https://localhost:8080/"
    },
    "executionInfo": {
     "elapsed": 26,
     "status": "ok",
     "timestamp": 1685661316476,
     "user": {
      "displayName": "Matteo Riotto",
      "userId": "15211004813978485634"
     },
     "user_tz": 420
    },
    "id": "tHFNCNj3ob30",
    "outputId": "a8eaaa4d-828b-44f2-b47a-3c34395a9ded"
   },
   "outputs": [
    {
     "name": "stdout",
     "output_type": "stream",
     "text": [
      "<class 'pandas.core.frame.DataFrame'>\n",
      "RangeIndex: 14999 entries, 0 to 14998\n",
      "Data columns (total 14 columns):\n",
      " #   Column                   Non-Null Count  Dtype  \n",
      "---  ------                   --------------  -----  \n",
      " 0   label                    14299 non-null  object \n",
      " 1   sessions                 14999 non-null  int64  \n",
      " 2   drives                   14999 non-null  int64  \n",
      " 3   total_sessions           14999 non-null  float64\n",
      " 4   n_days_after_onboarding  14999 non-null  int64  \n",
      " 5   total_navigations_fav1   14999 non-null  int64  \n",
      " 6   total_navigations_fav2   14999 non-null  int64  \n",
      " 7   driven_km_drives         14999 non-null  float64\n",
      " 8   duration_minutes_drives  14999 non-null  float64\n",
      " 9   activity_days            14999 non-null  int64  \n",
      " 10  driving_days             14999 non-null  int64  \n",
      " 11  device                   14999 non-null  object \n",
      " 12  km_per_driving_day       14999 non-null  float64\n",
      " 13  professional_driver      14999 non-null  int64  \n",
      "dtypes: float64(4), int64(8), object(2)\n",
      "memory usage: 1.6+ MB\n"
     ]
    }
   ],
   "source": [
    "df.info()"
   ]
  },
  {
   "cell_type": "code",
   "execution_count": 16,
   "metadata": {
    "id": "B34fDk52o2Uk"
   },
   "outputs": [],
   "source": [
    "# Droped rows with missing data in `label` column\n",
    "df = df.dropna(subset=['label'])"
   ]
  },
  {
   "cell_type": "markdown",
   "metadata": {
    "id": "TrmIiSQ-PG8Q"
   },
   "source": [
    "#### **Outliers**"
   ]
  },
  {
   "cell_type": "code",
   "execution_count": 17,
   "metadata": {
    "id": "AX-Sbttr9-ji"
   },
   "outputs": [],
   "source": [
    "# Imputed outliers\n",
    "for column in ['sessions', 'drives', 'total_sessions', 'total_navigations_fav1',\n",
    "               'total_navigations_fav2', 'driven_km_drives', 'duration_minutes_drives']:\n",
    "    threshold = df[column].quantile(0.95)\n",
    "    df.loc[df[column] > threshold, column] = threshold"
   ]
  },
  {
   "cell_type": "code",
   "execution_count": 18,
   "metadata": {
    "colab": {
     "base_uri": "https://localhost:8080/"
    },
    "executionInfo": {
     "elapsed": 24,
     "status": "ok",
     "timestamp": 1685661316480,
     "user": {
      "displayName": "Matteo Riotto",
      "userId": "15211004813978485634"
     },
     "user_tz": 420
    },
    "id": "isYOM__qS75C",
    "outputId": "6bef6f00-946e-4a05-ab0b-2948ae28a907"
   },
   "outputs": [
    {
     "data": {
      "text/html": [
       "<div>\n",
       "<style scoped>\n",
       "    .dataframe tbody tr th:only-of-type {\n",
       "        vertical-align: middle;\n",
       "    }\n",
       "\n",
       "    .dataframe tbody tr th {\n",
       "        vertical-align: top;\n",
       "    }\n",
       "\n",
       "    .dataframe thead th {\n",
       "        text-align: right;\n",
       "    }\n",
       "</style>\n",
       "<table border=\"1\" class=\"dataframe\">\n",
       "  <thead>\n",
       "    <tr style=\"text-align: right;\">\n",
       "      <th></th>\n",
       "      <th>sessions</th>\n",
       "      <th>drives</th>\n",
       "      <th>total_sessions</th>\n",
       "      <th>n_days_after_onboarding</th>\n",
       "      <th>total_navigations_fav1</th>\n",
       "      <th>total_navigations_fav2</th>\n",
       "      <th>driven_km_drives</th>\n",
       "      <th>duration_minutes_drives</th>\n",
       "      <th>activity_days</th>\n",
       "      <th>driving_days</th>\n",
       "      <th>km_per_driving_day</th>\n",
       "      <th>professional_driver</th>\n",
       "    </tr>\n",
       "  </thead>\n",
       "  <tbody>\n",
       "    <tr>\n",
       "      <th>count</th>\n",
       "      <td>14299.000000</td>\n",
       "      <td>14299.000000</td>\n",
       "      <td>14299.000000</td>\n",
       "      <td>14299.000000</td>\n",
       "      <td>14299.000000</td>\n",
       "      <td>14299.000000</td>\n",
       "      <td>14299.000000</td>\n",
       "      <td>14299.000000</td>\n",
       "      <td>14299.000000</td>\n",
       "      <td>14299.000000</td>\n",
       "      <td>14299.000000</td>\n",
       "      <td>14299.000000</td>\n",
       "    </tr>\n",
       "    <tr>\n",
       "      <th>mean</th>\n",
       "      <td>76.539688</td>\n",
       "      <td>63.964683</td>\n",
       "      <td>183.717304</td>\n",
       "      <td>1751.822505</td>\n",
       "      <td>114.562767</td>\n",
       "      <td>27.187216</td>\n",
       "      <td>3944.558631</td>\n",
       "      <td>1792.911210</td>\n",
       "      <td>15.544653</td>\n",
       "      <td>12.182530</td>\n",
       "      <td>581.942399</td>\n",
       "      <td>0.173998</td>\n",
       "    </tr>\n",
       "    <tr>\n",
       "      <th>std</th>\n",
       "      <td>67.243178</td>\n",
       "      <td>55.127927</td>\n",
       "      <td>118.720520</td>\n",
       "      <td>1008.663834</td>\n",
       "      <td>124.378550</td>\n",
       "      <td>36.715302</td>\n",
       "      <td>2218.358258</td>\n",
       "      <td>1224.329759</td>\n",
       "      <td>9.016088</td>\n",
       "      <td>7.833835</td>\n",
       "      <td>1038.254509</td>\n",
       "      <td>0.379121</td>\n",
       "    </tr>\n",
       "    <tr>\n",
       "      <th>min</th>\n",
       "      <td>0.000000</td>\n",
       "      <td>0.000000</td>\n",
       "      <td>0.220211</td>\n",
       "      <td>4.000000</td>\n",
       "      <td>0.000000</td>\n",
       "      <td>0.000000</td>\n",
       "      <td>60.441250</td>\n",
       "      <td>18.282082</td>\n",
       "      <td>0.000000</td>\n",
       "      <td>0.000000</td>\n",
       "      <td>0.000000</td>\n",
       "      <td>0.000000</td>\n",
       "    </tr>\n",
       "    <tr>\n",
       "      <th>25%</th>\n",
       "      <td>23.000000</td>\n",
       "      <td>20.000000</td>\n",
       "      <td>90.457733</td>\n",
       "      <td>878.500000</td>\n",
       "      <td>10.000000</td>\n",
       "      <td>0.000000</td>\n",
       "      <td>2217.319909</td>\n",
       "      <td>840.181344</td>\n",
       "      <td>8.000000</td>\n",
       "      <td>5.000000</td>\n",
       "      <td>136.168003</td>\n",
       "      <td>0.000000</td>\n",
       "    </tr>\n",
       "    <tr>\n",
       "      <th>50%</th>\n",
       "      <td>56.000000</td>\n",
       "      <td>48.000000</td>\n",
       "      <td>158.718571</td>\n",
       "      <td>1749.000000</td>\n",
       "      <td>71.000000</td>\n",
       "      <td>9.000000</td>\n",
       "      <td>3496.545617</td>\n",
       "      <td>1479.394387</td>\n",
       "      <td>16.000000</td>\n",
       "      <td>12.000000</td>\n",
       "      <td>273.301012</td>\n",
       "      <td>0.000000</td>\n",
       "    </tr>\n",
       "    <tr>\n",
       "      <th>75%</th>\n",
       "      <td>111.000000</td>\n",
       "      <td>93.000000</td>\n",
       "      <td>253.540450</td>\n",
       "      <td>2627.500000</td>\n",
       "      <td>178.000000</td>\n",
       "      <td>43.000000</td>\n",
       "      <td>5299.972162</td>\n",
       "      <td>2466.928876</td>\n",
       "      <td>23.000000</td>\n",
       "      <td>19.000000</td>\n",
       "      <td>558.018761</td>\n",
       "      <td>0.000000</td>\n",
       "    </tr>\n",
       "    <tr>\n",
       "      <th>max</th>\n",
       "      <td>243.000000</td>\n",
       "      <td>200.000000</td>\n",
       "      <td>455.439492</td>\n",
       "      <td>3500.000000</td>\n",
       "      <td>422.000000</td>\n",
       "      <td>124.000000</td>\n",
       "      <td>8898.716275</td>\n",
       "      <td>4668.180092</td>\n",
       "      <td>31.000000</td>\n",
       "      <td>30.000000</td>\n",
       "      <td>15420.234110</td>\n",
       "      <td>1.000000</td>\n",
       "    </tr>\n",
       "  </tbody>\n",
       "</table>\n",
       "</div>"
      ],
      "text/plain": [
       "           sessions        drives  total_sessions  n_days_after_onboarding  \\\n",
       "count  14299.000000  14299.000000    14299.000000             14299.000000   \n",
       "mean      76.539688     63.964683      183.717304              1751.822505   \n",
       "std       67.243178     55.127927      118.720520              1008.663834   \n",
       "min        0.000000      0.000000        0.220211                 4.000000   \n",
       "25%       23.000000     20.000000       90.457733               878.500000   \n",
       "50%       56.000000     48.000000      158.718571              1749.000000   \n",
       "75%      111.000000     93.000000      253.540450              2627.500000   \n",
       "max      243.000000    200.000000      455.439492              3500.000000   \n",
       "\n",
       "       total_navigations_fav1  total_navigations_fav2  driven_km_drives  \\\n",
       "count            14299.000000            14299.000000      14299.000000   \n",
       "mean               114.562767               27.187216       3944.558631   \n",
       "std                124.378550               36.715302       2218.358258   \n",
       "min                  0.000000                0.000000         60.441250   \n",
       "25%                 10.000000                0.000000       2217.319909   \n",
       "50%                 71.000000                9.000000       3496.545617   \n",
       "75%                178.000000               43.000000       5299.972162   \n",
       "max                422.000000              124.000000       8898.716275   \n",
       "\n",
       "       duration_minutes_drives  activity_days  driving_days  \\\n",
       "count             14299.000000   14299.000000  14299.000000   \n",
       "mean               1792.911210      15.544653     12.182530   \n",
       "std                1224.329759       9.016088      7.833835   \n",
       "min                  18.282082       0.000000      0.000000   \n",
       "25%                 840.181344       8.000000      5.000000   \n",
       "50%                1479.394387      16.000000     12.000000   \n",
       "75%                2466.928876      23.000000     19.000000   \n",
       "max                4668.180092      31.000000     30.000000   \n",
       "\n",
       "       km_per_driving_day  professional_driver  \n",
       "count        14299.000000         14299.000000  \n",
       "mean           581.942399             0.173998  \n",
       "std           1038.254509             0.379121  \n",
       "min              0.000000             0.000000  \n",
       "25%            136.168003             0.000000  \n",
       "50%            273.301012             0.000000  \n",
       "75%            558.018761             0.000000  \n",
       "max          15420.234110             1.000000  "
      ]
     },
     "execution_count": 18,
     "metadata": {},
     "output_type": "execute_result"
    }
   ],
   "source": [
    "df.describe()"
   ]
  },
  {
   "cell_type": "markdown",
   "metadata": {
    "id": "uFnVVQ_OTpqz"
   },
   "source": [
    "#### **Encode categorical variables**"
   ]
  },
  {
   "cell_type": "code",
   "execution_count": 22,
   "metadata": {
    "colab": {
     "base_uri": "https://localhost:8080/",
     "height": 206
    },
    "executionInfo": {
     "elapsed": 19,
     "status": "ok",
     "timestamp": 1685661316480,
     "user": {
      "displayName": "Matteo Riotto",
      "userId": "15211004813978485634"
     },
     "user_tz": 420
    },
    "id": "7fRaU2JKpyXg",
    "outputId": "2d50426f-bf38-48e2-8b07-28825c2826bd"
   },
   "outputs": [
    {
     "name": "stderr",
     "output_type": "stream",
     "text": [
      "/var/folders/_z/ml7gh_zd6c56zqxkv8zq0dxc0000gn/T/ipykernel_32842/3784869350.py:2: SettingWithCopyWarning: \n",
      "A value is trying to be set on a copy of a slice from a DataFrame.\n",
      "Try using .loc[row_indexer,col_indexer] = value instead\n",
      "\n",
      "See the caveats in the documentation: https://pandas.pydata.org/pandas-docs/stable/user_guide/indexing.html#returning-a-view-versus-a-copy\n",
      "  df['label2'] = np.where(df['label']=='churned', 1, 0)\n"
     ]
    },
    {
     "data": {
      "text/html": [
       "<div>\n",
       "<style scoped>\n",
       "    .dataframe tbody tr th:only-of-type {\n",
       "        vertical-align: middle;\n",
       "    }\n",
       "\n",
       "    .dataframe tbody tr th {\n",
       "        vertical-align: top;\n",
       "    }\n",
       "\n",
       "    .dataframe thead th {\n",
       "        text-align: right;\n",
       "    }\n",
       "</style>\n",
       "<table border=\"1\" class=\"dataframe\">\n",
       "  <thead>\n",
       "    <tr style=\"text-align: right;\">\n",
       "      <th></th>\n",
       "      <th>label</th>\n",
       "      <th>label2</th>\n",
       "    </tr>\n",
       "  </thead>\n",
       "  <tbody>\n",
       "    <tr>\n",
       "      <th>14994</th>\n",
       "      <td>retained</td>\n",
       "      <td>0</td>\n",
       "    </tr>\n",
       "    <tr>\n",
       "      <th>14995</th>\n",
       "      <td>retained</td>\n",
       "      <td>0</td>\n",
       "    </tr>\n",
       "    <tr>\n",
       "      <th>14996</th>\n",
       "      <td>retained</td>\n",
       "      <td>0</td>\n",
       "    </tr>\n",
       "    <tr>\n",
       "      <th>14997</th>\n",
       "      <td>churned</td>\n",
       "      <td>1</td>\n",
       "    </tr>\n",
       "    <tr>\n",
       "      <th>14998</th>\n",
       "      <td>retained</td>\n",
       "      <td>0</td>\n",
       "    </tr>\n",
       "  </tbody>\n",
       "</table>\n",
       "</div>"
      ],
      "text/plain": [
       "          label  label2\n",
       "14994  retained       0\n",
       "14995  retained       0\n",
       "14996  retained       0\n",
       "14997   churned       1\n",
       "14998  retained       0"
      ]
     },
     "execution_count": 22,
     "metadata": {},
     "output_type": "execute_result"
    }
   ],
   "source": [
    "# Created binary `label2` column\n",
    "df['label2'] = np.where(df['label']=='churned', 1, 0)\n",
    "df[['label', 'label2']].tail()"
   ]
  },
  {
   "cell_type": "markdown",
   "metadata": {
    "id": "HMj6QkK1cLmS"
   },
   "source": [
    "### **Assumptions**"
   ]
  },
  {
   "cell_type": "markdown",
   "metadata": {
    "id": "zl5_1hXIWoqw"
   },
   "source": [
    "#### **Collinearity**"
   ]
  },
  {
   "cell_type": "code",
   "execution_count": 29,
   "metadata": {
    "colab": {
     "base_uri": "https://localhost:8080/",
     "height": 521
    },
    "executionInfo": {
     "elapsed": 19,
     "status": "ok",
     "timestamp": 1685661316481,
     "user": {
      "displayName": "Matteo Riotto",
      "userId": "15211004813978485634"
     },
     "user_tz": 420
    },
    "id": "10gLfs4eW8wl",
    "outputId": "6c36a069-a532-42a7-ef21-7946caaa53da",
    "scrolled": true
   },
   "outputs": [
    {
     "data": {
      "text/html": [
       "<div>\n",
       "<style scoped>\n",
       "    .dataframe tbody tr th:only-of-type {\n",
       "        vertical-align: middle;\n",
       "    }\n",
       "\n",
       "    .dataframe tbody tr th {\n",
       "        vertical-align: top;\n",
       "    }\n",
       "\n",
       "    .dataframe thead th {\n",
       "        text-align: right;\n",
       "    }\n",
       "</style>\n",
       "<table border=\"1\" class=\"dataframe\">\n",
       "  <thead>\n",
       "    <tr style=\"text-align: right;\">\n",
       "      <th></th>\n",
       "      <th>sessions</th>\n",
       "      <th>drives</th>\n",
       "      <th>total_sessions</th>\n",
       "      <th>n_days_after_onboarding</th>\n",
       "      <th>total_navigations_fav1</th>\n",
       "      <th>total_navigations_fav2</th>\n",
       "      <th>driven_km_drives</th>\n",
       "      <th>duration_minutes_drives</th>\n",
       "      <th>activity_days</th>\n",
       "      <th>driving_days</th>\n",
       "      <th>km_per_driving_day</th>\n",
       "      <th>professional_driver</th>\n",
       "      <th>label2</th>\n",
       "    </tr>\n",
       "  </thead>\n",
       "  <tbody>\n",
       "    <tr>\n",
       "      <th>sessions</th>\n",
       "      <td>1.000000</td>\n",
       "      <td>0.996942</td>\n",
       "      <td>0.597189</td>\n",
       "      <td>0.007101</td>\n",
       "      <td>0.001858</td>\n",
       "      <td>0.008536</td>\n",
       "      <td>0.002996</td>\n",
       "      <td>-0.004545</td>\n",
       "      <td>0.025113</td>\n",
       "      <td>0.020294</td>\n",
       "      <td>-0.011569</td>\n",
       "      <td>0.443654</td>\n",
       "      <td>0.034911</td>\n",
       "    </tr>\n",
       "    <tr>\n",
       "      <th>drives</th>\n",
       "      <td>0.996942</td>\n",
       "      <td>1.000000</td>\n",
       "      <td>0.595285</td>\n",
       "      <td>0.006940</td>\n",
       "      <td>0.001058</td>\n",
       "      <td>0.009505</td>\n",
       "      <td>0.003445</td>\n",
       "      <td>-0.003889</td>\n",
       "      <td>0.024357</td>\n",
       "      <td>0.019608</td>\n",
       "      <td>-0.010989</td>\n",
       "      <td>0.444425</td>\n",
       "      <td>0.035865</td>\n",
       "    </tr>\n",
       "    <tr>\n",
       "      <th>total_sessions</th>\n",
       "      <td>0.597189</td>\n",
       "      <td>0.595285</td>\n",
       "      <td>1.000000</td>\n",
       "      <td>0.006596</td>\n",
       "      <td>0.000187</td>\n",
       "      <td>0.010371</td>\n",
       "      <td>0.001016</td>\n",
       "      <td>-0.000338</td>\n",
       "      <td>0.015755</td>\n",
       "      <td>0.012953</td>\n",
       "      <td>-0.016167</td>\n",
       "      <td>0.254433</td>\n",
       "      <td>0.024568</td>\n",
       "    </tr>\n",
       "    <tr>\n",
       "      <th>n_days_after_onboarding</th>\n",
       "      <td>0.007101</td>\n",
       "      <td>0.006940</td>\n",
       "      <td>0.006596</td>\n",
       "      <td>1.000000</td>\n",
       "      <td>-0.002450</td>\n",
       "      <td>-0.004968</td>\n",
       "      <td>-0.004652</td>\n",
       "      <td>-0.010167</td>\n",
       "      <td>-0.009418</td>\n",
       "      <td>-0.007321</td>\n",
       "      <td>0.011764</td>\n",
       "      <td>0.003770</td>\n",
       "      <td>-0.129263</td>\n",
       "    </tr>\n",
       "    <tr>\n",
       "      <th>total_navigations_fav1</th>\n",
       "      <td>0.001858</td>\n",
       "      <td>0.001058</td>\n",
       "      <td>0.000187</td>\n",
       "      <td>-0.002450</td>\n",
       "      <td>1.000000</td>\n",
       "      <td>0.002866</td>\n",
       "      <td>-0.007368</td>\n",
       "      <td>0.005646</td>\n",
       "      <td>0.010902</td>\n",
       "      <td>0.010419</td>\n",
       "      <td>-0.000197</td>\n",
       "      <td>-0.000224</td>\n",
       "      <td>0.052322</td>\n",
       "    </tr>\n",
       "    <tr>\n",
       "      <th>total_navigations_fav2</th>\n",
       "      <td>0.008536</td>\n",
       "      <td>0.009505</td>\n",
       "      <td>0.010371</td>\n",
       "      <td>-0.004968</td>\n",
       "      <td>0.002866</td>\n",
       "      <td>1.000000</td>\n",
       "      <td>0.003559</td>\n",
       "      <td>-0.003009</td>\n",
       "      <td>-0.004425</td>\n",
       "      <td>0.002000</td>\n",
       "      <td>0.006751</td>\n",
       "      <td>0.007126</td>\n",
       "      <td>0.015032</td>\n",
       "    </tr>\n",
       "    <tr>\n",
       "      <th>driven_km_drives</th>\n",
       "      <td>0.002996</td>\n",
       "      <td>0.003445</td>\n",
       "      <td>0.001016</td>\n",
       "      <td>-0.004652</td>\n",
       "      <td>-0.007368</td>\n",
       "      <td>0.003559</td>\n",
       "      <td>1.000000</td>\n",
       "      <td>0.690515</td>\n",
       "      <td>-0.007441</td>\n",
       "      <td>-0.009549</td>\n",
       "      <td>0.344811</td>\n",
       "      <td>-0.000904</td>\n",
       "      <td>0.019767</td>\n",
       "    </tr>\n",
       "    <tr>\n",
       "      <th>duration_minutes_drives</th>\n",
       "      <td>-0.004545</td>\n",
       "      <td>-0.003889</td>\n",
       "      <td>-0.000338</td>\n",
       "      <td>-0.010167</td>\n",
       "      <td>0.005646</td>\n",
       "      <td>-0.003009</td>\n",
       "      <td>0.690515</td>\n",
       "      <td>1.000000</td>\n",
       "      <td>-0.007895</td>\n",
       "      <td>-0.009425</td>\n",
       "      <td>0.239627</td>\n",
       "      <td>-0.012128</td>\n",
       "      <td>0.040407</td>\n",
       "    </tr>\n",
       "    <tr>\n",
       "      <th>activity_days</th>\n",
       "      <td>0.025113</td>\n",
       "      <td>0.024357</td>\n",
       "      <td>0.015755</td>\n",
       "      <td>-0.009418</td>\n",
       "      <td>0.010902</td>\n",
       "      <td>-0.004425</td>\n",
       "      <td>-0.007441</td>\n",
       "      <td>-0.007895</td>\n",
       "      <td>1.000000</td>\n",
       "      <td>0.947687</td>\n",
       "      <td>-0.397433</td>\n",
       "      <td>0.453825</td>\n",
       "      <td>-0.303851</td>\n",
       "    </tr>\n",
       "    <tr>\n",
       "      <th>driving_days</th>\n",
       "      <td>0.020294</td>\n",
       "      <td>0.019608</td>\n",
       "      <td>0.012953</td>\n",
       "      <td>-0.007321</td>\n",
       "      <td>0.010419</td>\n",
       "      <td>0.002000</td>\n",
       "      <td>-0.009549</td>\n",
       "      <td>-0.009425</td>\n",
       "      <td>0.947687</td>\n",
       "      <td>1.000000</td>\n",
       "      <td>-0.407917</td>\n",
       "      <td>0.469776</td>\n",
       "      <td>-0.294259</td>\n",
       "    </tr>\n",
       "    <tr>\n",
       "      <th>km_per_driving_day</th>\n",
       "      <td>-0.011569</td>\n",
       "      <td>-0.010989</td>\n",
       "      <td>-0.016167</td>\n",
       "      <td>0.011764</td>\n",
       "      <td>-0.000197</td>\n",
       "      <td>0.006751</td>\n",
       "      <td>0.344811</td>\n",
       "      <td>0.239627</td>\n",
       "      <td>-0.397433</td>\n",
       "      <td>-0.407917</td>\n",
       "      <td>1.000000</td>\n",
       "      <td>-0.165966</td>\n",
       "      <td>0.148583</td>\n",
       "    </tr>\n",
       "    <tr>\n",
       "      <th>professional_driver</th>\n",
       "      <td>0.443654</td>\n",
       "      <td>0.444425</td>\n",
       "      <td>0.254433</td>\n",
       "      <td>0.003770</td>\n",
       "      <td>-0.000224</td>\n",
       "      <td>0.007126</td>\n",
       "      <td>-0.000904</td>\n",
       "      <td>-0.012128</td>\n",
       "      <td>0.453825</td>\n",
       "      <td>0.469776</td>\n",
       "      <td>-0.165966</td>\n",
       "      <td>1.000000</td>\n",
       "      <td>-0.122312</td>\n",
       "    </tr>\n",
       "    <tr>\n",
       "      <th>label2</th>\n",
       "      <td>0.034911</td>\n",
       "      <td>0.035865</td>\n",
       "      <td>0.024568</td>\n",
       "      <td>-0.129263</td>\n",
       "      <td>0.052322</td>\n",
       "      <td>0.015032</td>\n",
       "      <td>0.019767</td>\n",
       "      <td>0.040407</td>\n",
       "      <td>-0.303851</td>\n",
       "      <td>-0.294259</td>\n",
       "      <td>0.148583</td>\n",
       "      <td>-0.122312</td>\n",
       "      <td>1.000000</td>\n",
       "    </tr>\n",
       "  </tbody>\n",
       "</table>\n",
       "</div>"
      ],
      "text/plain": [
       "                         sessions    drives  total_sessions  \\\n",
       "sessions                 1.000000  0.996942        0.597189   \n",
       "drives                   0.996942  1.000000        0.595285   \n",
       "total_sessions           0.597189  0.595285        1.000000   \n",
       "n_days_after_onboarding  0.007101  0.006940        0.006596   \n",
       "total_navigations_fav1   0.001858  0.001058        0.000187   \n",
       "total_navigations_fav2   0.008536  0.009505        0.010371   \n",
       "driven_km_drives         0.002996  0.003445        0.001016   \n",
       "duration_minutes_drives -0.004545 -0.003889       -0.000338   \n",
       "activity_days            0.025113  0.024357        0.015755   \n",
       "driving_days             0.020294  0.019608        0.012953   \n",
       "km_per_driving_day      -0.011569 -0.010989       -0.016167   \n",
       "professional_driver      0.443654  0.444425        0.254433   \n",
       "label2                   0.034911  0.035865        0.024568   \n",
       "\n",
       "                         n_days_after_onboarding  total_navigations_fav1  \\\n",
       "sessions                                0.007101                0.001858   \n",
       "drives                                  0.006940                0.001058   \n",
       "total_sessions                          0.006596                0.000187   \n",
       "n_days_after_onboarding                 1.000000               -0.002450   \n",
       "total_navigations_fav1                 -0.002450                1.000000   \n",
       "total_navigations_fav2                 -0.004968                0.002866   \n",
       "driven_km_drives                       -0.004652               -0.007368   \n",
       "duration_minutes_drives                -0.010167                0.005646   \n",
       "activity_days                          -0.009418                0.010902   \n",
       "driving_days                           -0.007321                0.010419   \n",
       "km_per_driving_day                      0.011764               -0.000197   \n",
       "professional_driver                     0.003770               -0.000224   \n",
       "label2                                 -0.129263                0.052322   \n",
       "\n",
       "                         total_navigations_fav2  driven_km_drives  \\\n",
       "sessions                               0.008536          0.002996   \n",
       "drives                                 0.009505          0.003445   \n",
       "total_sessions                         0.010371          0.001016   \n",
       "n_days_after_onboarding               -0.004968         -0.004652   \n",
       "total_navigations_fav1                 0.002866         -0.007368   \n",
       "total_navigations_fav2                 1.000000          0.003559   \n",
       "driven_km_drives                       0.003559          1.000000   \n",
       "duration_minutes_drives               -0.003009          0.690515   \n",
       "activity_days                         -0.004425         -0.007441   \n",
       "driving_days                           0.002000         -0.009549   \n",
       "km_per_driving_day                     0.006751          0.344811   \n",
       "professional_driver                    0.007126         -0.000904   \n",
       "label2                                 0.015032          0.019767   \n",
       "\n",
       "                         duration_minutes_drives  activity_days  driving_days  \\\n",
       "sessions                               -0.004545       0.025113      0.020294   \n",
       "drives                                 -0.003889       0.024357      0.019608   \n",
       "total_sessions                         -0.000338       0.015755      0.012953   \n",
       "n_days_after_onboarding                -0.010167      -0.009418     -0.007321   \n",
       "total_navigations_fav1                  0.005646       0.010902      0.010419   \n",
       "total_navigations_fav2                 -0.003009      -0.004425      0.002000   \n",
       "driven_km_drives                        0.690515      -0.007441     -0.009549   \n",
       "duration_minutes_drives                 1.000000      -0.007895     -0.009425   \n",
       "activity_days                          -0.007895       1.000000      0.947687   \n",
       "driving_days                           -0.009425       0.947687      1.000000   \n",
       "km_per_driving_day                      0.239627      -0.397433     -0.407917   \n",
       "professional_driver                    -0.012128       0.453825      0.469776   \n",
       "label2                                  0.040407      -0.303851     -0.294259   \n",
       "\n",
       "                         km_per_driving_day  professional_driver    label2  \n",
       "sessions                          -0.011569             0.443654  0.034911  \n",
       "drives                            -0.010989             0.444425  0.035865  \n",
       "total_sessions                    -0.016167             0.254433  0.024568  \n",
       "n_days_after_onboarding            0.011764             0.003770 -0.129263  \n",
       "total_navigations_fav1            -0.000197            -0.000224  0.052322  \n",
       "total_navigations_fav2             0.006751             0.007126  0.015032  \n",
       "driven_km_drives                   0.344811            -0.000904  0.019767  \n",
       "duration_minutes_drives            0.239627            -0.012128  0.040407  \n",
       "activity_days                     -0.397433             0.453825 -0.303851  \n",
       "driving_days                      -0.407917             0.469776 -0.294259  \n",
       "km_per_driving_day                 1.000000            -0.165966  0.148583  \n",
       "professional_driver               -0.165966             1.000000 -0.122312  \n",
       "label2                             0.148583            -0.122312  1.000000  "
      ]
     },
     "execution_count": 29,
     "metadata": {},
     "output_type": "execute_result"
    }
   ],
   "source": [
    "# Correlation matrix\n",
    "df.corr(method='pearson', numeric_only=True)"
   ]
  },
  {
   "cell_type": "code",
   "execution_count": 30,
   "metadata": {
    "colab": {
     "base_uri": "https://localhost:8080/",
     "height": 800
    },
    "executionInfo": {
     "elapsed": 977,
     "status": "ok",
     "timestamp": 1685661317441,
     "user": {
      "displayName": "Matteo Riotto",
      "userId": "15211004813978485634"
     },
     "user_tz": 420
    },
    "id": "KLm9uCkpXITf",
    "outputId": "073ae2e1-5ffe-4627-a586-0e9a730addc1",
    "scrolled": true
   },
   "outputs": [
    {
     "data": {
      "image/png": "[encoded data removed]",
      "text/plain": [
       "<Figure size 1500x1000 with 2 Axes>"
      ]
     },
     "metadata": {},
     "output_type": "display_data"
    }
   ],
   "source": [
    "# Heatmap\n",
    "plt.figure(figsize=(15,10))\n",
    "sns.heatmap(df.corr(method='pearson', numeric_only=True), vmin=-1, vmax=1, annot=True, cmap='coolwarm')\n",
    "plt.title('Correlation heatmap indicates many low correlated variables',\n",
    "          fontsize=18)\n",
    "plt.show();"
   ]
  },
  {
   "cell_type": "markdown",
   "metadata": {
    "id": "Lma-Rk81XbA2"
   },
   "source": [
    "If there are predictor variables that have a Pearson correlation coefficient value greater than the **absolute value of 0.7**, these variables are strongly multicollinear. Therefore, only one of these variables should be used in the model."
   ]
  },
  {
   "cell_type": "markdown",
   "metadata": {
    "id": "o3ArC_5xa7Oi"
   },
   "source": [
    "### **Create dummies**"
   ]
  },
  {
   "cell_type": "code",
   "execution_count": 32,
   "metadata": {
    "colab": {
     "base_uri": "https://localhost:8080/",
     "height": 206
    },
    "executionInfo": {
     "elapsed": 35,
     "status": "ok",
     "timestamp": 1685661317442,
     "user": {
      "displayName": "Matteo Riotto",
      "userId": "15211004813978485634"
     },
     "user_tz": 420
    },
    "id": "QvDpwcQm0f35",
    "outputId": "59a2ada0-b47c-43dd-d570-156d042f9e4a"
   },
   "outputs": [
    {
     "name": "stderr",
     "output_type": "stream",
     "text": [
      "/var/folders/_z/ml7gh_zd6c56zqxkv8zq0dxc0000gn/T/ipykernel_32842/2203432084.py:2: SettingWithCopyWarning: \n",
      "A value is trying to be set on a copy of a slice from a DataFrame.\n",
      "Try using .loc[row_indexer,col_indexer] = value instead\n",
      "\n",
      "See the caveats in the documentation: https://pandas.pydata.org/pandas-docs/stable/user_guide/indexing.html#returning-a-view-versus-a-copy\n",
      "  df['device2'] = np.where(df['device']=='Android', 0, 1)\n"
     ]
    },
    {
     "data": {
      "text/html": [
       "<div>\n",
       "<style scoped>\n",
       "    .dataframe tbody tr th:only-of-type {\n",
       "        vertical-align: middle;\n",
       "    }\n",
       "\n",
       "    .dataframe tbody tr th {\n",
       "        vertical-align: top;\n",
       "    }\n",
       "\n",
       "    .dataframe thead th {\n",
       "        text-align: right;\n",
       "    }\n",
       "</style>\n",
       "<table border=\"1\" class=\"dataframe\">\n",
       "  <thead>\n",
       "    <tr style=\"text-align: right;\">\n",
       "      <th></th>\n",
       "      <th>device</th>\n",
       "      <th>device2</th>\n",
       "    </tr>\n",
       "  </thead>\n",
       "  <tbody>\n",
       "    <tr>\n",
       "      <th>14994</th>\n",
       "      <td>iPhone</td>\n",
       "      <td>1</td>\n",
       "    </tr>\n",
       "    <tr>\n",
       "      <th>14995</th>\n",
       "      <td>Android</td>\n",
       "      <td>0</td>\n",
       "    </tr>\n",
       "    <tr>\n",
       "      <th>14996</th>\n",
       "      <td>iPhone</td>\n",
       "      <td>1</td>\n",
       "    </tr>\n",
       "    <tr>\n",
       "      <th>14997</th>\n",
       "      <td>iPhone</td>\n",
       "      <td>1</td>\n",
       "    </tr>\n",
       "    <tr>\n",
       "      <th>14998</th>\n",
       "      <td>iPhone</td>\n",
       "      <td>1</td>\n",
       "    </tr>\n",
       "  </tbody>\n",
       "</table>\n",
       "</div>"
      ],
      "text/plain": [
       "        device  device2\n",
       "14994   iPhone        1\n",
       "14995  Android        0\n",
       "14996   iPhone        1\n",
       "14997   iPhone        1\n",
       "14998   iPhone        1"
      ]
     },
     "execution_count": 32,
     "metadata": {},
     "output_type": "execute_result"
    }
   ],
   "source": [
    "# Created new `device2` variable\n",
    "df['device2'] = np.where(df['device']=='Android', 0, 1)\n",
    "df[['device', 'device2']].tail()"
   ]
  },
  {
   "cell_type": "markdown",
   "metadata": {
    "id": "iDYyjWssbnBG"
   },
   "source": [
    "### **Model building**"
   ]
  },
  {
   "cell_type": "code",
   "execution_count": 34,
   "metadata": {
    "id": "AzcDgLRET4d7"
   },
   "outputs": [],
   "source": [
    "X = df.drop(columns = ['label', 'label2', 'device', 'sessions', 'driving_days'])"
   ]
  },
  {
   "cell_type": "code",
   "execution_count": 35,
   "metadata": {
    "id": "VinAdTeDipKP"
   },
   "outputs": [],
   "source": [
    "y = df['label2']"
   ]
  },
  {
   "cell_type": "code",
   "execution_count": 36,
   "metadata": {
    "id": "ulDZdfSS0FyD"
   },
   "outputs": [],
   "source": [
    "X_train, X_test, y_train, y_test = train_test_split(X, y, stratify=y, random_state=42)"
   ]
  },
  {
   "cell_type": "code",
   "execution_count": 37,
   "metadata": {
    "colab": {
     "base_uri": "https://localhost:8080/",
     "height": 270
    },
    "executionInfo": {
     "elapsed": 34,
     "status": "ok",
     "timestamp": 1685661317445,
     "user": {
      "displayName": "Matteo Riotto",
      "userId": "15211004813978485634"
     },
     "user_tz": 420
    },
    "id": "gdCOXqi4nqwM",
    "outputId": "f789bc02-cbaf-4866-999e-d55df2905ce4"
   },
   "outputs": [
    {
     "data": {
      "text/html": [
       "<div>\n",
       "<style scoped>\n",
       "    .dataframe tbody tr th:only-of-type {\n",
       "        vertical-align: middle;\n",
       "    }\n",
       "\n",
       "    .dataframe tbody tr th {\n",
       "        vertical-align: top;\n",
       "    }\n",
       "\n",
       "    .dataframe thead th {\n",
       "        text-align: right;\n",
       "    }\n",
       "</style>\n",
       "<table border=\"1\" class=\"dataframe\">\n",
       "  <thead>\n",
       "    <tr style=\"text-align: right;\">\n",
       "      <th></th>\n",
       "      <th>drives</th>\n",
       "      <th>total_sessions</th>\n",
       "      <th>n_days_after_onboarding</th>\n",
       "      <th>total_navigations_fav1</th>\n",
       "      <th>total_navigations_fav2</th>\n",
       "      <th>driven_km_drives</th>\n",
       "      <th>duration_minutes_drives</th>\n",
       "      <th>activity_days</th>\n",
       "      <th>km_per_driving_day</th>\n",
       "      <th>professional_driver</th>\n",
       "      <th>device2</th>\n",
       "    </tr>\n",
       "  </thead>\n",
       "  <tbody>\n",
       "    <tr>\n",
       "      <th>152</th>\n",
       "      <td>108</td>\n",
       "      <td>186.192746</td>\n",
       "      <td>3116</td>\n",
       "      <td>243</td>\n",
       "      <td>124</td>\n",
       "      <td>8898.716275</td>\n",
       "      <td>4668.180092</td>\n",
       "      <td>24</td>\n",
       "      <td>612.305861</td>\n",
       "      <td>1</td>\n",
       "      <td>1</td>\n",
       "    </tr>\n",
       "    <tr>\n",
       "      <th>11899</th>\n",
       "      <td>2</td>\n",
       "      <td>3.487590</td>\n",
       "      <td>794</td>\n",
       "      <td>114</td>\n",
       "      <td>18</td>\n",
       "      <td>3286.545691</td>\n",
       "      <td>1780.902733</td>\n",
       "      <td>5</td>\n",
       "      <td>3286.545691</td>\n",
       "      <td>0</td>\n",
       "      <td>1</td>\n",
       "    </tr>\n",
       "    <tr>\n",
       "      <th>10937</th>\n",
       "      <td>139</td>\n",
       "      <td>347.106403</td>\n",
       "      <td>331</td>\n",
       "      <td>4</td>\n",
       "      <td>7</td>\n",
       "      <td>7400.838975</td>\n",
       "      <td>2349.305267</td>\n",
       "      <td>15</td>\n",
       "      <td>616.736581</td>\n",
       "      <td>0</td>\n",
       "      <td>0</td>\n",
       "    </tr>\n",
       "    <tr>\n",
       "      <th>669</th>\n",
       "      <td>108</td>\n",
       "      <td>455.439492</td>\n",
       "      <td>2320</td>\n",
       "      <td>11</td>\n",
       "      <td>4</td>\n",
       "      <td>6566.424830</td>\n",
       "      <td>4558.459870</td>\n",
       "      <td>18</td>\n",
       "      <td>410.401552</td>\n",
       "      <td>1</td>\n",
       "      <td>1</td>\n",
       "    </tr>\n",
       "    <tr>\n",
       "      <th>8406</th>\n",
       "      <td>10</td>\n",
       "      <td>89.475821</td>\n",
       "      <td>2478</td>\n",
       "      <td>135</td>\n",
       "      <td>0</td>\n",
       "      <td>1271.248661</td>\n",
       "      <td>938.711572</td>\n",
       "      <td>27</td>\n",
       "      <td>74.779333</td>\n",
       "      <td>0</td>\n",
       "      <td>1</td>\n",
       "    </tr>\n",
       "  </tbody>\n",
       "</table>\n",
       "</div>"
      ],
      "text/plain": [
       "       drives  total_sessions  n_days_after_onboarding  \\\n",
       "152       108      186.192746                     3116   \n",
       "11899       2        3.487590                      794   \n",
       "10937     139      347.106403                      331   \n",
       "669       108      455.439492                     2320   \n",
       "8406       10       89.475821                     2478   \n",
       "\n",
       "       total_navigations_fav1  total_navigations_fav2  driven_km_drives  \\\n",
       "152                       243                     124       8898.716275   \n",
       "11899                     114                      18       3286.545691   \n",
       "10937                       4                       7       7400.838975   \n",
       "669                        11                       4       6566.424830   \n",
       "8406                      135                       0       1271.248661   \n",
       "\n",
       "       duration_minutes_drives  activity_days  km_per_driving_day  \\\n",
       "152                4668.180092             24          612.305861   \n",
       "11899              1780.902733              5         3286.545691   \n",
       "10937              2349.305267             15          616.736581   \n",
       "669                4558.459870             18          410.401552   \n",
       "8406                938.711572             27           74.779333   \n",
       "\n",
       "       professional_driver  device2  \n",
       "152                      1        1  \n",
       "11899                    0        1  \n",
       "10937                    0        0  \n",
       "669                      1        1  \n",
       "8406                     0        1  "
      ]
     },
     "execution_count": 37,
     "metadata": {},
     "output_type": "execute_result"
    }
   ],
   "source": [
    "X_train.head()"
   ]
  },
  {
   "cell_type": "code",
   "execution_count": 38,
   "metadata": {
    "colab": {
     "base_uri": "https://localhost:8080/",
     "height": 74
    },
    "executionInfo": {
     "elapsed": 33,
     "status": "ok",
     "timestamp": 1685661317446,
     "user": {
      "displayName": "Matteo Riotto",
      "userId": "15211004813978485634"
     },
     "user_tz": 420
    },
    "id": "zrTNaDVZheyp",
    "outputId": "2dd7cf30-2723-4667-aab3-ecca0a757c05"
   },
   "outputs": [
    {
     "name": "stderr",
     "output_type": "stream",
     "text": [
      "/Applications/anaconda3/lib/python3.11/site-packages/sklearn/linear_model/_logistic.py:1173: FutureWarning: `penalty='none'`has been deprecated in 1.2 and will be removed in 1.4. To keep the past behaviour, set `penalty=None`.\n",
      "  warnings.warn(\n"
     ]
    },
    {
     "data": {
      "text/html": [
       "<style>#sk-container-id-1 {color: black;background-color: white;}#sk-container-id-1 pre{padding: 0;}#sk-container-id-1 div.sk-toggleable {background-color: white;}#sk-container-id-1 label.sk-toggleable__label {cursor: pointer;display: block;width: 100%;margin-bottom: 0;padding: 0.3em;box-sizing: border-box;text-align: center;}#sk-container-id-1 label.sk-toggleable__label-arrow:before {content: \"▸\";float: left;margin-right: 0.25em;color: #696969;}#sk-container-id-1 label.sk-toggleable__label-arrow:hover:before {color: black;}#sk-container-id-1 div.sk-estimator:hover label.sk-toggleable__label-arrow:before {color: black;}#sk-container-id-1 div.sk-toggleable__content {max-height: 0;max-width: 0;overflow: hidden;text-align: left;background-color: #f0f8ff;}#sk-container-id-1 div.sk-toggleable__content pre {margin: 0.2em;color: black;border-radius: 0.25em;background-color: #f0f8ff;}#sk-container-id-1 input.sk-toggleable__control:checked~div.sk-toggleable__content {max-height: 200px;max-width: 100%;overflow: auto;}#sk-container-id-1 input.sk-toggleable__control:checked~label.sk-toggleable__label-arrow:before {content: \"▾\";}#sk-container-id-1 div.sk-estimator input.sk-toggleable__control:checked~label.sk-toggleable__label {background-color: #d4ebff;}#sk-container-id-1 div.sk-label input.sk-toggleable__control:checked~label.sk-toggleable__label {background-color: #d4ebff;}#sk-container-id-1 input.sk-hidden--visually {border: 0;clip: rect(1px 1px 1px 1px);clip: rect(1px, 1px, 1px, 1px);height: 1px;margin: -1px;overflow: hidden;padding: 0;position: absolute;width: 1px;}#sk-container-id-1 div.sk-estimator {font-family: monospace;background-color: #f0f8ff;border: 1px dotted black;border-radius: 0.25em;box-sizing: border-box;margin-bottom: 0.5em;}#sk-container-id-1 div.sk-estimator:hover {background-color: #d4ebff;}#sk-container-id-1 div.sk-parallel-item::after {content: \"\";width: 100%;border-bottom: 1px solid gray;flex-grow: 1;}#sk-container-id-1 div.sk-label:hover label.sk-toggleable__label {background-color: #d4ebff;}#sk-container-id-1 div.sk-serial::before {content: \"\";position: absolute;border-left: 1px solid gray;box-sizing: border-box;top: 0;bottom: 0;left: 50%;z-index: 0;}#sk-container-id-1 div.sk-serial {display: flex;flex-direction: column;align-items: center;background-color: white;padding-right: 0.2em;padding-left: 0.2em;position: relative;}#sk-container-id-1 div.sk-item {position: relative;z-index: 1;}#sk-container-id-1 div.sk-parallel {display: flex;align-items: stretch;justify-content: center;background-color: white;position: relative;}#sk-container-id-1 div.sk-item::before, #sk-container-id-1 div.sk-parallel-item::before {content: \"\";position: absolute;border-left: 1px solid gray;box-sizing: border-box;top: 0;bottom: 0;left: 50%;z-index: -1;}#sk-container-id-1 div.sk-parallel-item {display: flex;flex-direction: column;z-index: 1;position: relative;background-color: white;}#sk-container-id-1 div.sk-parallel-item:first-child::after {align-self: flex-end;width: 50%;}#sk-container-id-1 div.sk-parallel-item:last-child::after {align-self: flex-start;width: 50%;}#sk-container-id-1 div.sk-parallel-item:only-child::after {width: 0;}#sk-container-id-1 div.sk-dashed-wrapped {border: 1px dashed gray;margin: 0 0.4em 0.5em 0.4em;box-sizing: border-box;padding-bottom: 0.4em;background-color: white;}#sk-container-id-1 div.sk-label label {font-family: monospace;font-weight: bold;display: inline-block;line-height: 1.2em;}#sk-container-id-1 div.sk-label-container {text-align: center;}#sk-container-id-1 div.sk-container {/* jupyter's `normalize.less` sets `[hidden] { display: none; }` but bootstrap.min.css set `[hidden] { display: none !important; }` so we also need the `!important` here to be able to override the default hidden behavior on the sphinx rendered scikit-learn.org. See: https://github.com/scikit-learn/scikit-learn/issues/21755 */display: inline-block !important;position: relative;}#sk-container-id-1 div.sk-text-repr-fallback {display: none;}</style><div id=\"sk-container-id-1\" class=\"sk-top-container\"><div class=\"sk-text-repr-fallback\"><pre>LogisticRegression(max_iter=400, penalty=&#x27;none&#x27;)</pre><b>In a Jupyter environment, please rerun this cell to show the HTML representation or trust the notebook. <br />On GitHub, the HTML representation is unable to render, please try loading this page with nbviewer.org.</b></div><div class=\"sk-container\" hidden><div class=\"sk-item\"><div class=\"sk-estimator sk-toggleable\"><input class=\"sk-toggleable__control sk-hidden--visually\" id=\"sk-estimator-id-1\" type=\"checkbox\" checked><label for=\"sk-estimator-id-1\" class=\"sk-toggleable__label sk-toggleable__label-arrow\">LogisticRegression</label><div class=\"sk-toggleable__content\"><pre>LogisticRegression(max_iter=400, penalty=&#x27;none&#x27;)</pre></div></div></div></div></div>"
      ],
      "text/plain": [
       "LogisticRegression(max_iter=400, penalty='none')"
      ]
     },
     "execution_count": 38,
     "metadata": {},
     "output_type": "execute_result"
    }
   ],
   "source": [
    "model = LogisticRegression(penalty='none', max_iter=400)\n",
    "\n",
    "model.fit(X_train, y_train)\n"
   ]
  },
  {
   "cell_type": "code",
   "execution_count": 39,
   "metadata": {
    "colab": {
     "base_uri": "https://localhost:8080/"
    },
    "executionInfo": {
     "elapsed": 32,
     "status": "ok",
     "timestamp": 1685661317446,
     "user": {
      "displayName": "Matteo Riotto",
      "userId": "15211004813978485634"
     },
     "user_tz": 420
    },
    "id": "7Ri-OHrlmd8j",
    "outputId": "f7c2b295-9194-47a7-b64b-8e40547414c7"
   },
   "outputs": [
    {
     "data": {
      "text/plain": [
       "drives                     0.001913\n",
       "total_sessions             0.000327\n",
       "n_days_after_onboarding   -0.000406\n",
       "total_navigations_fav1     0.001232\n",
       "total_navigations_fav2     0.000931\n",
       "driven_km_drives          -0.000015\n",
       "duration_minutes_drives    0.000109\n",
       "activity_days             -0.106032\n",
       "km_per_driving_day         0.000018\n",
       "professional_driver       -0.001529\n",
       "device2                   -0.001041\n",
       "dtype: float64"
      ]
     },
     "execution_count": 39,
     "metadata": {},
     "output_type": "execute_result"
    }
   ],
   "source": [
    "pd.Series(model.coef_[0], index=X.columns)"
   ]
  },
  {
   "cell_type": "code",
   "execution_count": 40,
   "metadata": {
    "colab": {
     "base_uri": "https://localhost:8080/"
    },
    "executionInfo": {
     "elapsed": 27,
     "status": "ok",
     "timestamp": 1685661317447,
     "user": {
      "displayName": "Matteo Riotto",
      "userId": "15211004813978485634"
     },
     "user_tz": 420
    },
    "id": "hWeruvy1wksj",
    "outputId": "8c4599d9-ea2b-443d-a7c3-bc445bb8028e"
   },
   "outputs": [
    {
     "data": {
      "text/plain": [
       "array([-0.00170675])"
      ]
     },
     "execution_count": 40,
     "metadata": {},
     "output_type": "execute_result"
    }
   ],
   "source": [
    "model.intercept_"
   ]
  },
  {
   "cell_type": "code",
   "execution_count": 41,
   "metadata": {
    "colab": {
     "base_uri": "https://localhost:8080/"
    },
    "executionInfo": {
     "elapsed": 23,
     "status": "ok",
     "timestamp": 1685661317447,
     "user": {
      "displayName": "Matteo Riotto",
      "userId": "15211004813978485634"
     },
     "user_tz": 420
    },
    "id": "GQrFrGIyHCjA",
    "outputId": "c2ea3168-ddfb-4375-abfd-7b3829084933"
   },
   "outputs": [
    {
     "data": {
      "text/plain": [
       "array([[0.93963503, 0.06036497],\n",
       "       [0.61967273, 0.38032727],\n",
       "       [0.76463133, 0.23536867],\n",
       "       ...,\n",
       "       [0.91909624, 0.08090376],\n",
       "       [0.85092145, 0.14907855],\n",
       "       [0.93516276, 0.06483724]])"
      ]
     },
     "execution_count": 41,
     "metadata": {},
     "output_type": "execute_result"
    }
   ],
   "source": [
    "# Predicted probabilities of the training data\n",
    "training_probabilities = model.predict_proba(X_train)\n",
    "training_probabilities"
   ]
  },
  {
   "cell_type": "code",
   "execution_count": 42,
   "metadata": {
    "id": "7SxkJyInYNCi"
   },
   "outputs": [],
   "source": [
    "logit_data = X_train.copy()\n",
    "logit_data['logit'] = [np.log(prob[1] / prob[0]) for prob in training_probabilities]"
   ]
  },
  {
   "cell_type": "code",
   "execution_count": 43,
   "metadata": {
    "colab": {
     "base_uri": "https://localhost:8080/",
     "height": 472
    },
    "executionInfo": {
     "elapsed": 809,
     "status": "ok",
     "timestamp": 1685661318647,
     "user": {
      "displayName": "Matteo Riotto",
      "userId": "15211004813978485634"
     },
     "user_tz": 420
    },
    "id": "d46KmI_ZZBDy",
    "outputId": "24b6fc58-2323-4071-f6a5-cd6569e3e47a"
   },
   "outputs": [
    {
     "data": {
      "image/png": "[encoded data removed]",
      "text/plain": [
       "<Figure size 640x480 with 1 Axes>"
      ]
     },
     "metadata": {},
     "output_type": "display_data"
    }
   ],
   "source": [
    "# Regplot of `activity_days` log-odds\n",
    "sns.regplot(x='activity_days', y='logit', data=logit_data, scatter_kws={'s': 2, 'alpha': 0.5})\n",
    "plt.title('Log-odds: activity_days');"
   ]
  },
  {
   "cell_type": "markdown",
   "metadata": {
    "id": "F_l3bkxQdJ3a"
   },
   "source": [
    "### **Results and evaluation**"
   ]
  },
  {
   "cell_type": "code",
   "execution_count": 46,
   "metadata": {
    "id": "cSl5gbXfBPBN"
   },
   "outputs": [],
   "source": [
    "# Generated predictions on X_test\n",
    "y_preds = model.predict(X_test)"
   ]
  },
  {
   "cell_type": "code",
   "execution_count": 47,
   "metadata": {
    "colab": {
     "base_uri": "https://localhost:8080/"
    },
    "executionInfo": {
     "elapsed": 27,
     "status": "ok",
     "timestamp": 1685661318649,
     "user": {
      "displayName": "Matteo Riotto",
      "userId": "15211004813978485634"
     },
     "user_tz": 420
    },
    "id": "fU3v-XO49qm8",
    "outputId": "935ee835-3272-4f5c-f842-6e0979ee273f"
   },
   "outputs": [
    {
     "data": {
      "text/plain": [
       "0.8237762237762237"
      ]
     },
     "execution_count": 47,
     "metadata": {},
     "output_type": "execute_result"
    }
   ],
   "source": [
    "# Score the model (accuracy) on the test data\n",
    "model.score(X_test, y_test)"
   ]
  },
  {
   "cell_type": "markdown",
   "metadata": {
    "id": "mwRmSDS3eyeH"
   },
   "source": [
    "### **Confusion matrix**"
   ]
  },
  {
   "cell_type": "code",
   "execution_count": 48,
   "metadata": {
    "id": "IBFU_dicBjwQ"
   },
   "outputs": [],
   "source": [
    "cm = confusion_matrix(y_test, y_preds)"
   ]
  },
  {
   "cell_type": "code",
   "execution_count": 33,
   "metadata": {
    "colab": {
     "base_uri": "https://localhost:8080/",
     "height": 449
    },
    "executionInfo": {
     "elapsed": 26,
     "status": "ok",
     "timestamp": 1685661318650,
     "user": {
      "displayName": "Matteo Riotto",
      "userId": "15211004813978485634"
     },
     "user_tz": 420
    },
    "id": "BT0hOH_ZFsnx",
    "outputId": "b032d12d-97c3-4f64-a6c6-4ed062f97fdd"
   },
   "outputs": [
    {
     "data": {
      "image/png": "[encoded data removed]",
      "text/plain": [
       "<Figure size 432x288 with 2 Axes>"
      ]
     },
     "metadata": {
      "needs_background": "light"
     },
     "output_type": "display_data"
    }
   ],
   "source": [
    "disp = ConfusionMatrixDisplay(confusion_matrix=cm, \n",
    "                              display_labels=['retained', 'churned'],\n",
    "                              )\n",
    "disp.plot();"
   ]
  },
  {
   "cell_type": "code",
   "execution_count": 49,
   "metadata": {
    "colab": {
     "base_uri": "https://localhost:8080/"
    },
    "executionInfo": {
     "elapsed": 26,
     "status": "ok",
     "timestamp": 1685661318651,
     "user": {
      "displayName": "Matteo Riotto",
      "userId": "15211004813978485634"
     },
     "user_tz": 420
    },
    "id": "bP3cDYQRgGwO",
    "outputId": "eaaeeb6e-aa06-417b-e353-7bd3cdd3471d"
   },
   "outputs": [
    {
     "data": {
      "text/plain": [
       "0.5178571428571429"
      ]
     },
     "execution_count": 49,
     "metadata": {},
     "output_type": "execute_result"
    }
   ],
   "source": [
    "# Calculated precision manually\n",
    "precision = cm[1,1] / (cm[0, 1] + cm[1, 1])\n",
    "precision"
   ]
  },
  {
   "cell_type": "code",
   "execution_count": 50,
   "metadata": {
    "colab": {
     "base_uri": "https://localhost:8080/"
    },
    "executionInfo": {
     "elapsed": 21,
     "status": "ok",
     "timestamp": 1685661318651,
     "user": {
      "displayName": "Matteo Riotto",
      "userId": "15211004813978485634"
     },
     "user_tz": 420
    },
    "id": "hAz7NVP3fxQD",
    "outputId": "74c07f46-b040-4755-d8e4-f537f3752e55"
   },
   "outputs": [
    {
     "data": {
      "text/plain": [
       "0.0914826498422713"
      ]
     },
     "execution_count": 50,
     "metadata": {},
     "output_type": "execute_result"
    }
   ],
   "source": [
    "# Calculated recall manually\n",
    "recall = cm[1,1] / (cm[1, 0] + cm[1, 1])\n",
    "recall"
   ]
  },
  {
   "cell_type": "code",
   "execution_count": 51,
   "metadata": {
    "colab": {
     "base_uri": "https://localhost:8080/"
    },
    "executionInfo": {
     "elapsed": 18,
     "status": "ok",
     "timestamp": 1685661318652,
     "user": {
      "displayName": "Matteo Riotto",
      "userId": "15211004813978485634"
     },
     "user_tz": 420
    },
    "id": "-RBqS0tLpv6p",
    "outputId": "3425e075-692e-48bc-e85a-dd3d17ee9d3c"
   },
   "outputs": [
    {
     "name": "stdout",
     "output_type": "stream",
     "text": [
      "              precision    recall  f1-score   support\n",
      "\n",
      "    retained       0.83      0.98      0.90      2941\n",
      "     churned       0.52      0.09      0.16       634\n",
      "\n",
      "    accuracy                           0.82      3575\n",
      "   macro avg       0.68      0.54      0.53      3575\n",
      "weighted avg       0.78      0.82      0.77      3575\n",
      "\n"
     ]
    }
   ],
   "source": [
    "# Created a classification report\n",
    "target_labels = ['retained', 'churned']\n",
    "print(classification_report(y_test, y_preds, target_names=target_labels))"
   ]
  },
  {
   "cell_type": "markdown",
   "metadata": {
    "id": "PfZ5fuh_gPTH"
   },
   "source": [
    "The model has mediocre precision and very low recall, which means that it makes a lot of false negative predictions and fails to capture users who will churn."
   ]
  }
 ],
 "metadata": {
  "colab": {
   "provenance": [
    {
     "file_id": "16ynSVRiYFz40jV9BFaXgY62vWJWEVjFA",
     "timestamp": 1671052218770
    },
    {
     "file_id": "15PPfvGb4OuUkuQoTTpKKgSeY9o9a_XrL",
     "timestamp": 1669649625868
    },
    {
     "file_id": "1_uBujapIzHItho27E-iPg9wn3aHtsjLG",
     "timestamp": 1664565386285
    }
   ]
  },
  "kernelspec": {
   "display_name": "Python 3 (ipykernel)",
   "language": "python",
   "name": "python3"
  },
  "language_info": {
   "codemirror_mode": {
    "name": "ipython",
    "version": 3
   },
   "file_extension": ".py",
   "mimetype": "text/x-python",
   "name": "python",
   "nbconvert_exporter": "python",
   "pygments_lexer": "ipython3",
   "version": "3.11.7"
  }
 },
 "nbformat": 4,
 "nbformat_minor": 4
}
